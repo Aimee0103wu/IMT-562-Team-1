{
 "cells": [
  {
   "cell_type": "markdown",
   "metadata": {},
   "source": [
    "# Game Data Cleaning"
   ]
  },
  {
   "cell_type": "code",
   "execution_count": 1,
   "metadata": {},
   "outputs": [],
   "source": [
    "import numpy as np\n",
    "import pandas as pd"
   ]
  },
  {
   "cell_type": "code",
   "execution_count": 2,
   "metadata": {},
   "outputs": [],
   "source": [
    "data1 = pd.read_csv('Data/Games_full_vg_nan.csv')\n",
    "data2 = pd.read_csv('Data/Games_full_df.csv')"
   ]
  },
  {
   "cell_type": "code",
   "execution_count": 3,
   "metadata": {},
   "outputs": [
    {
     "name": "stdout",
     "output_type": "stream",
     "text": [
      "(7235, 25) (2042, 25)\n"
     ]
    }
   ],
   "source": [
    "print(data1.shape, data2.shape)"
   ]
  },
  {
   "cell_type": "code",
   "execution_count": 4,
   "metadata": {},
   "outputs": [
    {
     "name": "stdout",
     "output_type": "stream",
     "text": [
      "***Count NaN in each column of a DataFrame***\n",
      "Nan in each columns\n",
      "Critic_Score        6289\n",
      "ESRB_Rating         4393\n",
      "Genre                  0\n",
      "Global_Sales        5353\n",
      "JP_Sales            6785\n",
      "NA_Sales            5835\n",
      "Other_Sales         5416\n",
      "PAL_Sales           5698\n",
      "Platform               0\n",
      "Rank                   0\n",
      "Total_Shipped       6328\n",
      "Unnamed: 0             0\n",
      "User_Score          7139\n",
      "Year                 377\n",
      "average_playtime       1\n",
      "developer             71\n",
      "game                   0\n",
      "img_url                0\n",
      "median_playtime        2\n",
      "metascore           3451\n",
      "owners                 0\n",
      "price                493\n",
      "publisher             19\n",
      "release_date           0\n",
      "url                    0\n",
      "dtype: int64\n"
     ]
    }
   ],
   "source": [
    "print(\"***Count NaN in each column of a DataFrame***\")\n",
    "print(\"Nan in each columns\" , data1.sort_index(axis=1).isnull().sum(), sep='\\n')\n",
    "data1 = data1[['game','release_date','Platform','Genre','developer','owners','publisher','price','Rank','average_playtime','median_playtime','metascore','Year']]"
   ]
  },
  {
   "cell_type": "code",
   "execution_count": 5,
   "metadata": {},
   "outputs": [
    {
     "name": "stdout",
     "output_type": "stream",
     "text": [
      "***Count NaN in each column of a DataFrame***\n",
      "Nan in each columns\n",
      "Critic_Score        1470\n",
      "ESRB_Rating          855\n",
      "Genre                  0\n",
      "Global_Sales        1042\n",
      "JP_Sales            1730\n",
      "NA_Sales            1307\n",
      "Other_Sales         1064\n",
      "PAL_Sales           1139\n",
      "Platform               0\n",
      "Rank                   0\n",
      "Total_Shipped       1654\n",
      "User_Score          1999\n",
      "Year                  60\n",
      "average_playtime       0\n",
      "developer             11\n",
      "game                   0\n",
      "img_url                0\n",
      "median_playtime        1\n",
      "metascore              0\n",
      "owners                 0\n",
      "price                 89\n",
      "publisher              6\n",
      "release_date           0\n",
      "url                    0\n",
      "userscore              0\n",
      "dtype: int64\n"
     ]
    }
   ],
   "source": [
    "print(\"***Count NaN in each column of a DataFrame***\")\n",
    "print(\"Nan in each columns\" , data2.sort_index(axis=1).isnull().sum(), sep='\\n')\n",
    "data2 = data2[['game','release_date','Platform','Genre','developer','publisher','Rank','metascore','userscore']]"
   ]
  },
  {
   "cell_type": "code",
   "execution_count": 6,
   "metadata": {},
   "outputs": [],
   "source": [
    "merged = pd.merge(data1, data2, how='inner', on=['game','Platform','release_date','Genre','developer','publisher','Rank'])"
   ]
  },
  {
   "cell_type": "code",
   "execution_count": 7,
   "metadata": {},
   "outputs": [
    {
     "data": {
      "text/plain": [
       "(2042, 15)"
      ]
     },
     "execution_count": 7,
     "metadata": {},
     "output_type": "execute_result"
    }
   ],
   "source": [
    "merged.shape"
   ]
  },
  {
   "cell_type": "code",
   "execution_count": 8,
   "metadata": {},
   "outputs": [
    {
     "data": {
      "text/plain": [
       "Index(['game', 'release_date', 'Platform', 'Genre', 'developer', 'owners',\n",
       "       'publisher', 'price', 'Rank', 'average_playtime', 'median_playtime',\n",
       "       'metascore_x', 'Year', 'metascore_y', 'userscore'],\n",
       "      dtype='object')"
      ]
     },
     "execution_count": 8,
     "metadata": {},
     "output_type": "execute_result"
    }
   ],
   "source": [
    "merged.columns"
   ]
  },
  {
   "cell_type": "code",
   "execution_count": 9,
   "metadata": {},
   "outputs": [
    {
     "name": "stdout",
     "output_type": "stream",
     "text": [
      "***Count NaN in each column of a DataFrame***\n",
      "Nan in each columns after merging\n",
      "Genre                 0\n",
      "Platform              0\n",
      "Rank                  0\n",
      "Year                 60\n",
      "average_playtime      0\n",
      "developer            11\n",
      "game                  0\n",
      "median_playtime       1\n",
      "metascore_x         270\n",
      "metascore_y           0\n",
      "owners                0\n",
      "price                89\n",
      "publisher             6\n",
      "release_date          0\n",
      "userscore             0\n",
      "dtype: int64\n"
     ]
    }
   ],
   "source": [
    "print(\"***Count NaN in each column of a DataFrame***\")\n",
    "print(\"Nan in each columns after merging\" , merged.sort_index(axis=1).isnull().sum(), sep='\\n')"
   ]
  },
  {
   "cell_type": "code",
   "execution_count": 10,
   "metadata": {},
   "outputs": [],
   "source": [
    "merged = merged.dropna(subset=['price', 'publisher','median_playtime'])"
   ]
  },
  {
   "cell_type": "markdown",
   "metadata": {},
   "source": [
    "## Findings\n",
    "- Two datasets have different metascores in some games."
   ]
  },
  {
   "cell_type": "code",
   "execution_count": 11,
   "metadata": {},
   "outputs": [
    {
     "data": {
      "text/html": [
       "<div>\n",
       "<style scoped>\n",
       "    .dataframe tbody tr th:only-of-type {\n",
       "        vertical-align: middle;\n",
       "    }\n",
       "\n",
       "    .dataframe tbody tr th {\n",
       "        vertical-align: top;\n",
       "    }\n",
       "\n",
       "    .dataframe thead th {\n",
       "        text-align: right;\n",
       "    }\n",
       "</style>\n",
       "<table border=\"1\" class=\"dataframe\">\n",
       "  <thead>\n",
       "    <tr style=\"text-align: right;\">\n",
       "      <th></th>\n",
       "      <th>game</th>\n",
       "      <th>release_date</th>\n",
       "      <th>Platform</th>\n",
       "      <th>Genre</th>\n",
       "      <th>developer</th>\n",
       "      <th>owners</th>\n",
       "      <th>publisher</th>\n",
       "      <th>price</th>\n",
       "      <th>Rank</th>\n",
       "      <th>average_playtime</th>\n",
       "      <th>median_playtime</th>\n",
       "      <th>metascore_x</th>\n",
       "      <th>Year</th>\n",
       "      <th>metascore_y</th>\n",
       "      <th>userscore</th>\n",
       "    </tr>\n",
       "  </thead>\n",
       "  <tbody>\n",
       "    <tr>\n",
       "      <th>20</th>\n",
       "      <td>Grand Theft Auto: San Andreas</td>\n",
       "      <td>6-Jun-05</td>\n",
       "      <td>PS2</td>\n",
       "      <td>Action</td>\n",
       "      <td>Rockstar Games</td>\n",
       "      <td>2,000,000-5,000,000</td>\n",
       "      <td>Rockstar Games</td>\n",
       "      <td>14.99</td>\n",
       "      <td>27</td>\n",
       "      <td>373.0</td>\n",
       "      <td>236.0</td>\n",
       "      <td>93.0</td>\n",
       "      <td>2004.0</td>\n",
       "      <td>95</td>\n",
       "      <td>9</td>\n",
       "    </tr>\n",
       "    <tr>\n",
       "      <th>23</th>\n",
       "      <td>Sid Meier's Pirates!</td>\n",
       "      <td>11-Jul-05</td>\n",
       "      <td>PSP</td>\n",
       "      <td>Strategy</td>\n",
       "      <td>Firaxis Games</td>\n",
       "      <td>500,000-1,000,000</td>\n",
       "      <td>2K</td>\n",
       "      <td>9.99</td>\n",
       "      <td>8816</td>\n",
       "      <td>0.0</td>\n",
       "      <td>0.0</td>\n",
       "      <td>88.0</td>\n",
       "      <td>2007.0</td>\n",
       "      <td>82</td>\n",
       "      <td>7.7</td>\n",
       "    </tr>\n",
       "    <tr>\n",
       "      <th>28</th>\n",
       "      <td>Prince of Persia: The Two Thrones</td>\n",
       "      <td>7-Dec-05</td>\n",
       "      <td>GC</td>\n",
       "      <td>Adventure</td>\n",
       "      <td>Ubisoft Montreal</td>\n",
       "      <td>200,000-500,000</td>\n",
       "      <td>Ubisoft</td>\n",
       "      <td>9.99</td>\n",
       "      <td>10421</td>\n",
       "      <td>0.0</td>\n",
       "      <td>0.0</td>\n",
       "      <td>85.0</td>\n",
       "      <td>2005.0</td>\n",
       "      <td>84</td>\n",
       "      <td>7.8</td>\n",
       "    </tr>\n",
       "    <tr>\n",
       "      <th>31</th>\n",
       "      <td>Prince of Persia: The Two Thrones</td>\n",
       "      <td>21-Nov-08</td>\n",
       "      <td>GC</td>\n",
       "      <td>Adventure</td>\n",
       "      <td>Ubisoft Montreal</td>\n",
       "      <td>200,000-500,000</td>\n",
       "      <td>Ubisoft</td>\n",
       "      <td>9.99</td>\n",
       "      <td>10421</td>\n",
       "      <td>0.0</td>\n",
       "      <td>0.0</td>\n",
       "      <td>85.0</td>\n",
       "      <td>2005.0</td>\n",
       "      <td>84</td>\n",
       "      <td>7.8</td>\n",
       "    </tr>\n",
       "    <tr>\n",
       "      <th>33</th>\n",
       "      <td>The Bard's Tale</td>\n",
       "      <td>17-Jun-05</td>\n",
       "      <td>PS2</td>\n",
       "      <td>Role-Playing</td>\n",
       "      <td>inXile Entertainment</td>\n",
       "      <td>200,000-500,000</td>\n",
       "      <td>inXile Entertainment</td>\n",
       "      <td>9.99</td>\n",
       "      <td>8478</td>\n",
       "      <td>0.0</td>\n",
       "      <td>0.0</td>\n",
       "      <td>70.0</td>\n",
       "      <td>2004.0</td>\n",
       "      <td>76</td>\n",
       "      <td>7.9</td>\n",
       "    </tr>\n",
       "    <tr>\n",
       "      <th>...</th>\n",
       "      <td>...</td>\n",
       "      <td>...</td>\n",
       "      <td>...</td>\n",
       "      <td>...</td>\n",
       "      <td>...</td>\n",
       "      <td>...</td>\n",
       "      <td>...</td>\n",
       "      <td>...</td>\n",
       "      <td>...</td>\n",
       "      <td>...</td>\n",
       "      <td>...</td>\n",
       "      <td>...</td>\n",
       "      <td>...</td>\n",
       "      <td>...</td>\n",
       "      <td>...</td>\n",
       "    </tr>\n",
       "    <tr>\n",
       "      <th>2011</th>\n",
       "      <td>Dakar 18</td>\n",
       "      <td>25-Sep-18</td>\n",
       "      <td>PS4</td>\n",
       "      <td>Racing</td>\n",
       "      <td>Bigmoon Entertainment</td>\n",
       "      <td>0-20,000</td>\n",
       "      <td>Bigmoon Entertainment, Deep Silver</td>\n",
       "      <td>29.99</td>\n",
       "      <td>15262</td>\n",
       "      <td>0.0</td>\n",
       "      <td>0.0</td>\n",
       "      <td>59.0</td>\n",
       "      <td>2018.0</td>\n",
       "      <td>53</td>\n",
       "      <td>4.9</td>\n",
       "    </tr>\n",
       "    <tr>\n",
       "      <th>2012</th>\n",
       "      <td>Dakar 18</td>\n",
       "      <td>25-Sep-18</td>\n",
       "      <td>PC</td>\n",
       "      <td>Racing</td>\n",
       "      <td>Bigmoon Entertainment</td>\n",
       "      <td>0-20,000</td>\n",
       "      <td>Bigmoon Entertainment, Deep Silver</td>\n",
       "      <td>29.99</td>\n",
       "      <td>53342</td>\n",
       "      <td>0.0</td>\n",
       "      <td>0.0</td>\n",
       "      <td>59.0</td>\n",
       "      <td>2018.0</td>\n",
       "      <td>60</td>\n",
       "      <td>6.2</td>\n",
       "    </tr>\n",
       "    <tr>\n",
       "      <th>2013</th>\n",
       "      <td>Extinction</td>\n",
       "      <td>9-Apr-18</td>\n",
       "      <td>PS4</td>\n",
       "      <td>Action</td>\n",
       "      <td>Iron Galaxy</td>\n",
       "      <td>0-20,000</td>\n",
       "      <td>Modus Games</td>\n",
       "      <td>39.99</td>\n",
       "      <td>14695</td>\n",
       "      <td>0.0</td>\n",
       "      <td>0.0</td>\n",
       "      <td>51.0</td>\n",
       "      <td>2018.0</td>\n",
       "      <td>47</td>\n",
       "      <td>1.4</td>\n",
       "    </tr>\n",
       "    <tr>\n",
       "      <th>2015</th>\n",
       "      <td>Bullet Witch</td>\n",
       "      <td>25-Apr-18</td>\n",
       "      <td>X360</td>\n",
       "      <td>Shooter</td>\n",
       "      <td>Marvelous, Inc.</td>\n",
       "      <td>0-20,000</td>\n",
       "      <td>XSEED Games, Marvelous USA, Inc., Marvelous</td>\n",
       "      <td>14.99</td>\n",
       "      <td>12426</td>\n",
       "      <td>0.0</td>\n",
       "      <td>0.0</td>\n",
       "      <td>51.0</td>\n",
       "      <td>2007.0</td>\n",
       "      <td>55</td>\n",
       "      <td>6</td>\n",
       "    </tr>\n",
       "    <tr>\n",
       "      <th>2017</th>\n",
       "      <td>Past Cure</td>\n",
       "      <td>23-Feb-18</td>\n",
       "      <td>PS4</td>\n",
       "      <td>Action</td>\n",
       "      <td>Phantom 8 Studio</td>\n",
       "      <td>0-20,000</td>\n",
       "      <td>Phantom 8 Studio</td>\n",
       "      <td>29.99</td>\n",
       "      <td>17192</td>\n",
       "      <td>0.0</td>\n",
       "      <td>0.0</td>\n",
       "      <td>48.0</td>\n",
       "      <td>2018.0</td>\n",
       "      <td>37</td>\n",
       "      <td>5</td>\n",
       "    </tr>\n",
       "  </tbody>\n",
       "</table>\n",
       "<p>608 rows × 15 columns</p>\n",
       "</div>"
      ],
      "text/plain": [
       "                                   game release_date Platform         Genre  \\\n",
       "20        Grand Theft Auto: San Andreas     6-Jun-05      PS2        Action   \n",
       "23                 Sid Meier's Pirates!    11-Jul-05      PSP      Strategy   \n",
       "28    Prince of Persia: The Two Thrones     7-Dec-05       GC     Adventure   \n",
       "31    Prince of Persia: The Two Thrones    21-Nov-08       GC     Adventure   \n",
       "33                      The Bard's Tale    17-Jun-05      PS2  Role-Playing   \n",
       "...                                 ...          ...      ...           ...   \n",
       "2011                           Dakar 18    25-Sep-18      PS4        Racing   \n",
       "2012                           Dakar 18    25-Sep-18       PC        Racing   \n",
       "2013                         Extinction     9-Apr-18      PS4        Action   \n",
       "2015                       Bullet Witch    25-Apr-18     X360       Shooter   \n",
       "2017                          Past Cure    23-Feb-18      PS4        Action   \n",
       "\n",
       "                  developer               owners  \\\n",
       "20           Rockstar Games  2,000,000-5,000,000   \n",
       "23            Firaxis Games    500,000-1,000,000   \n",
       "28         Ubisoft Montreal      200,000-500,000   \n",
       "31         Ubisoft Montreal      200,000-500,000   \n",
       "33     inXile Entertainment      200,000-500,000   \n",
       "...                     ...                  ...   \n",
       "2011  Bigmoon Entertainment             0-20,000   \n",
       "2012  Bigmoon Entertainment             0-20,000   \n",
       "2013            Iron Galaxy             0-20,000   \n",
       "2015        Marvelous, Inc.             0-20,000   \n",
       "2017       Phantom 8 Studio             0-20,000   \n",
       "\n",
       "                                        publisher  price   Rank  \\\n",
       "20                                 Rockstar Games  14.99     27   \n",
       "23                                             2K   9.99   8816   \n",
       "28                                        Ubisoft   9.99  10421   \n",
       "31                                        Ubisoft   9.99  10421   \n",
       "33                           inXile Entertainment   9.99   8478   \n",
       "...                                           ...    ...    ...   \n",
       "2011           Bigmoon Entertainment, Deep Silver  29.99  15262   \n",
       "2012           Bigmoon Entertainment, Deep Silver  29.99  53342   \n",
       "2013                                  Modus Games  39.99  14695   \n",
       "2015  XSEED Games, Marvelous USA, Inc., Marvelous  14.99  12426   \n",
       "2017                             Phantom 8 Studio  29.99  17192   \n",
       "\n",
       "      average_playtime  median_playtime  metascore_x    Year  metascore_y  \\\n",
       "20               373.0            236.0         93.0  2004.0           95   \n",
       "23                 0.0              0.0         88.0  2007.0           82   \n",
       "28                 0.0              0.0         85.0  2005.0           84   \n",
       "31                 0.0              0.0         85.0  2005.0           84   \n",
       "33                 0.0              0.0         70.0  2004.0           76   \n",
       "...                ...              ...          ...     ...          ...   \n",
       "2011               0.0              0.0         59.0  2018.0           53   \n",
       "2012               0.0              0.0         59.0  2018.0           60   \n",
       "2013               0.0              0.0         51.0  2018.0           47   \n",
       "2015               0.0              0.0         51.0  2007.0           55   \n",
       "2017               0.0              0.0         48.0  2018.0           37   \n",
       "\n",
       "     userscore  \n",
       "20           9  \n",
       "23         7.7  \n",
       "28         7.8  \n",
       "31         7.8  \n",
       "33         7.9  \n",
       "...        ...  \n",
       "2011       4.9  \n",
       "2012       6.2  \n",
       "2013       1.4  \n",
       "2015         6  \n",
       "2017         5  \n",
       "\n",
       "[608 rows x 15 columns]"
      ]
     },
     "execution_count": 11,
     "metadata": {},
     "output_type": "execute_result"
    }
   ],
   "source": [
    "merged[(~merged['metascore_x'].isna())&(merged['metascore_x']!=merged['metascore_y'])]"
   ]
  },
  {
   "cell_type": "code",
   "execution_count": 12,
   "metadata": {},
   "outputs": [],
   "source": [
    "merged.to_csv('Data/Game_merged.csv')"
   ]
  }
 ],
 "metadata": {
  "kernelspec": {
   "display_name": "Python 3",
   "language": "python",
   "name": "python3"
  },
  "language_info": {
   "codemirror_mode": {
    "name": "ipython",
    "version": 3
   },
   "file_extension": ".py",
   "mimetype": "text/x-python",
   "name": "python",
   "nbconvert_exporter": "python",
   "pygments_lexer": "ipython3",
   "version": "3.7.0"
  }
 },
 "nbformat": 4,
 "nbformat_minor": 2
}
